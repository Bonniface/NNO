{
 "cells": [
  {
   "cell_type": "markdown",
   "metadata": {},
   "source": [
    "## Neural Network Optimizatio"
   ]
  },
  {
   "cell_type": "markdown",
   "metadata": {},
   "source": [
    "---\n",
    "\n",
    "## Overview\n",
    "\n",
    "This project aims to enhance neural network efficiency for resource-constrained devices through the combined application of pruning, quantization, and weight sharing, integrated with Dispersive Flies Optimization (DFO). The goal is to reduce the model's size and computational requirements while maintaining high accuracy, making it suitable for deployment on devices such as IoT devices, microcontrollers, and smartphones.\n",
    "\n",
    "## Table of Contents\n",
    "\n",
    "- [Overview](#overview)\n",
    "- [Prerequisites](#prerequisites)\n",
    "- [Installation](#installation)\n",
    "- [Usage](#usage)\n",
    "  - [Initial Training](#initial-training)\n",
    "  - [Pruning](#pruning)\n",
    "  - [Quantization](#quantization)\n",
    "  - [Weight Sharing](#weight-sharing)\n",
    "  - [Evaluation](#evaluation)\n",
    "- [Contributing](#contributing)\n",
    "- [License](#license)\n",
    "- [Contact](#contact)\n",
    "\n",
    "## Prerequisites\n",
    "\n",
    "Before we begin, ensure we have met the following requirements:\n",
    "\n",
    "- Python 3.6 or higher\n",
    "- PyTorch\n",
    "- Scikit-learn\n",
    "- NumPy\n"
   ]
  },
  {
   "cell_type": "code",
   "execution_count": null,
   "metadata": {},
   "outputs": [],
   "source": [
    "## Installation\n",
    "import torch\n",
    "import torch.nn as nn\n",
    "import torch.optim as optim\n",
    "\n",
    "import numpy as np\n",
    "\n",
    "from sklearn.metrics import accuracy_score\n",
    "\n",
    "import keras\n",
    "from keras.models import Sequential\n",
    "from keras.layers import Dense\n",
    "from keras.utils import to_categorical\n",
    "from keras.optimizers import Adam\n",
    "from keras.callbacks import EarlyStopping\n",
    "\n",
    "from tensorflow.keras.datasets import mnist\n",
    "from tensorflow.keras.models import Sequential\n",
    "from tensorflow.keras.layers import Conv2D, AveragePooling2D, Flatten, Dense\n",
    "from tensorflow.keras.optimizers import Adam\n",
    "from tensorflow.keras.utils import to_categorical"
   ]
  },
  {
   "cell_type": "code",
   "execution_count": null,
   "metadata": {},
   "outputs": [],
   "source": [
    "# Set a random seed for reproducibility\n",
    "np.random.seed(42)"
   ]
  },
  {
   "cell_type": "code",
   "execution_count": null,
   "metadata": {},
   "outputs": [],
   "source": [
    "# Load and preprocess data\n",
    "(X_train, y_train), (X_test, y_test) = keras.datasets.mnist.load_data()\n",
    "\n",
    "assert X_train.shape == (60000, 28, 28)\n",
    "assert X_test.shape == (10000, 28, 28)\n",
    "assert y_train.shape == (60000,)\n",
    "assert y_test.shape == (10000,)"
   ]
  },
  {
   "cell_type": "code",
   "execution_count": null,
   "metadata": {},
   "outputs": [],
   "source": [
    "import matplotlib.pyplot as plt\n",
    "\n",
    "plt.imshow(X_train[0],)\n",
    "plt.show()\n",
    "#print(X_train[0])"
   ]
  },
  {
   "cell_type": "code",
   "execution_count": null,
   "metadata": {},
   "outputs": [],
   "source": [
    "# Create the LeNet model\n",
    "model = Sequential()\n",
    "\n",
    "# Layer 1: Convolutional + Average Pooling\n",
    "model.add(Conv2D(6, kernel_size=(5, 5), activation='relu', input_shape=(28, 28, 1)))\n",
    "model.add(AveragePooling2D())\n",
    "\n",
    "model.add(Conv2D(16, kernel_size=(5, 5), activation='relu'))# Layer 2: Convolutional + Average Pooling\n",
    "model.add(AveragePooling2D())\n",
    "\n",
    "model.add(Flatten())# Flatten the data for the fully connected layers\n",
    "model.add(Dense(120, activation='relu'))# Layer 3: Fully Connected\n",
    "model.add(Dense(84, activation='relu'))# Layer 4: Fully Connected\n",
    "model.add(Dense(10, activation='softmax'))# Output Layer: Fully Connected with softmax activation\n",
    "model.summary()"
   ]
  },
  {
   "cell_type": "code",
   "execution_count": null,
   "metadata": {},
   "outputs": [],
   "source": [
    "# Compile the model\n",
    "model.compile(optimizer=Adam(lr=0.001), loss='categorical_crossentropy', metrics=['accuracy'])"
   ]
  },
  {
   "cell_type": "code",
   "execution_count": null,
   "metadata": {},
   "outputs": [],
   "source": [
    "model.fit(X_train,to_categorical(y_train),epochs=10)"
   ]
  },
  {
   "cell_type": "code",
   "execution_count": null,
   "metadata": {},
   "outputs": [],
   "source": [
    "# Prune the model\n",
    "def prune_low_magnitude(model, pruning_ratio, threshold, sparsity_target):\n",
    "    # Implement the pruning function here\n",
    "    pruned_model = model\n",
    "    return pruned_model\n",
    "\n",
    "pruned_model = prune_low_magnitude(model, 0.5, 0.5, 0.8)\n",
    "\n",
    "# Quantize the pruned model\n",
    "def quantize_model(model):\n",
    "    # Implement the quantization function here\n",
    "    quantized_model = model\n",
    "    return quantized_model\n",
    "\n",
    "quantized_model = quantize_model(pruned_model)\n",
    "\n",
    "# Define the DFO algorithm\n",
    "def dfo(pruning_ratio, quantization_precision):\n",
    "    # Prune the model based on the pruning ratio\n",
    "    pruned_model = prune_low_magnitude(model, pruning_ratio, 0.5, 0.8)\n",
    "\n",
    "    # Quantize the pruned model based on the quantization precision\n",
    "    quantized_model = quantize_model(pruned_model)\n",
    "\n",
    "    # Evaluate the performance of the pruned and quantized model\n",
    "    loss, accuracy = quantized_model.evaluate(X_test, to_categorical(y_test))\n",
    "    return accuracy"
   ]
  },
  {
   "cell_type": "code",
   "execution_count": null,
   "metadata": {},
   "outputs": [],
   "source": [
    "# Run the DFO algorithm\n",
    "best_accuracy = 0\n",
    "best_pruning_ratio = 0\n",
    "best_quantization_precision = 0\n",
    "\n",
    "for i in range(10):\n",
    "    pruning_ratio = np.random.uniform(0, 1)\n",
    "    quantization_precision = np.random.uniform(0, 1)\n",
    "    accuracy = dfo(pruning_ratio, quantization_precision)\n",
    "    if accuracy > best_accuracy:\n",
    "        best_accuracy = accuracy\n",
    "        best_pruning_ratio = pruning_ratio\n",
    "        best_quantization_precision = quantization_precision\n",
    "\n",
    "print(f\"Best pruning ratio: {best_pruning_ratio}\")\n",
    "print(f\"Best quantization precision: {best_quantization_precision}\")\n",
    "print(f\"Best accuracy: {best_accuracy}\")"
   ]
  },
  {
   "cell_type": "markdown",
   "metadata": {},
   "source": [
    "# DFO"
   ]
  },
  {
   "cell_type": "code",
   "execution_count": null,
   "metadata": {},
   "outputs": [],
   "source": [
    "# Initialize parapeter for DFo\n",
    "num_flies = 10\n",
    "num_iterations = 10\n",
    "pruning_ratio_bounds = (0,1)\n",
    "quantization_precision_bounds = (0,1)"
   ]
  },
  {
   "cell_type": "code",
   "execution_count": null,
   "metadata": {},
   "outputs": [],
   "source": [
    "# Initialize flies' positions randomly within the search space\n",
    "flies = np.random.uniform([pruning_ratio_bounds[0], quantization_precision_bounds[0]], \n",
    "                          [pruning_ratio_bounds[1], quantization_precision_bounds[1]], \n",
    "                          (num_flies, 2))"
   ]
  },
  {
   "cell_type": "code",
   "execution_count": null,
   "metadata": {},
   "outputs": [],
   "source": [
    "# Initialize best positions and accuracies for each fly\n",
    "best_positions = flies.copy()\n",
    "best_accuracies = np.zeros(num_flies)\n",
    "global_best_position = flies[0]\n",
    "global_best_accuracy = 0"
   ]
  },
  {
   "cell_type": "code",
   "execution_count": null,
   "metadata": {
    "tags": []
   },
   "outputs": [],
   "source": [
    "# Evaluate initial positions\n",
    "for i in range(num_flies):\n",
    "    accuracy = dfo(flies[i][0], flies[i][1])\n",
    "    best_accuracies[i] = accuracy\n",
    "    if accuracy > global_best_accuracy:\n",
    "        global_best_accuracy = accuracy\n",
    "        global_best_position = flies[i]"
   ]
  },
  {
   "cell_type": "code",
   "execution_count": null,
   "metadata": {
    "tags": []
   },
   "outputs": [],
   "source": [
    "# Main optimization loop\n",
    "for iteration in range(num_iterations):\n",
    "    for i in range(num_flies):\n",
    "        # Dispersal: Randomly move some flies\n",
    "        if np.random.rand() < 0.1:  # Dispersal probability\n",
    "            flies[i] = np.random.uniform([pruning_ratio_bounds[0], quantization_precision_bounds[0]], \n",
    "                                         [pruning_ratio_bounds[1], quantization_precision_bounds[1]])\n",
    "        # Attraction: Move flies towards the best-known positions\n",
    "        else:\n",
    "            flies[i] += 0.1 * (global_best_position - flies[i])  # Attraction to global best\n",
    "\n",
    "        # Ensure flies stay within bounds\n",
    "        flies[i] = np.clip(flies[i], [pruning_ratio_bounds[0], quantization_precision_bounds[0]], \n",
    "                           [pruning_ratio_bounds[1], quantization_precision_bounds[1]])\n",
    "\n",
    "        # Evaluate new position\n",
    "        accuracy = dfo(flies[i][0], flies[i][1])\n",
    "        if accuracy > best_accuracies[i]:\n",
    "            best_accuracies[i] = accuracy\n",
    "            best_positions[i] = flies[i]\n",
    "        if accuracy > global_best_accuracy:\n",
    "            global_best_accuracy = accuracy\n",
    "            global_best_position = flies[i]\n",
    "\n",
    "print(f\"Best pruning ratio: {global_best_position[0]}\")\n",
    "print(f\"Best quantization precision: {global_best_position[1]}\")\n",
    "print(f\"Best accuracy: {global_best_accuracy}\")"
   ]
  },
  {
   "cell_type": "code",
   "execution_count": null,
   "metadata": {},
   "outputs": [],
   "source": [
    "# Mock data for plotting (since we don't have the actual `model`, `X_test`, and `y_test`)\n",
    "# Replace these with your actual data and model evaluation results.\n",
    "num_flies = 10\n",
    "num_iterations = 20\n",
    "\n",
    "# Example data for accuracies over iterations for each fly (random data for illustration)\n",
    "accuracies = np.random.rand(num_iterations, num_flies)\n",
    "global_best_accuracies = np.max(accuracies, axis=1)\n",
    "\n",
    "# Plotting the results\n",
    "plt.figure(figsize=(12, 6))"
   ]
  },
  {
   "cell_type": "code",
   "execution_count": null,
   "metadata": {},
   "outputs": [],
   "source": []
  }
 ],
 "metadata": {
  "kernelspec": {
   "display_name": "Python 3 (ipykernel)",
   "language": "python",
   "name": "python3"
  },
  "language_info": {
   "codemirror_mode": {
    "name": "ipython",
    "version": 3
   },
   "file_extension": ".py",
   "mimetype": "text/x-python",
   "name": "python",
   "nbconvert_exporter": "python",
   "pygments_lexer": "ipython3",
   "version": "3.10.9"
  }
 },
 "nbformat": 4,
 "nbformat_minor": 4
}

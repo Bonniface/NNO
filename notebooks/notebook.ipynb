{
 "cells": [
  {
   "cell_type": "markdown",
   "metadata": {
    "colab_type": "text",
    "id": "view-in-github"
   },
   "source": [
    "<a href=\"https://colab.research.google.com/github/Bonniface/NNO/blob/main/notebooks/notebook.ipynb\" target=\"_parent\"><img src=\"https://colab.research.google.com/assets/colab-badge.svg\" alt=\"Open In Colab\"/></a>"
   ]
  },
  {
   "cell_type": "markdown",
   "metadata": {
    "id": "m0rX951waOSi"
   },
   "source": [
    "## Neural Network Optimizatio"
   ]
  },
  {
   "cell_type": "markdown",
   "metadata": {
    "id": "PLyvRIl5aOSp"
   },
   "source": [
    "---\n",
    "\n",
    "## Overview\n",
    "\n",
    "This project aims to enhance neural network efficiency for resource-constrained devices through the combined application of pruning, quantization, and weight sharing, integrated with Dispersive Flies Optimization (DFO). The goal is to reduce the model's size and computational requirements while maintaining high accuracy, making it suitable for deployment on devices such as IoT devices, microcontrollers, and smartphones.\n",
    "\n",
    "## Table of Contents\n",
    "\n",
    "- [Overview](#overview)\n",
    "- [Prerequisites](#prerequisites)\n",
    "- [Installation](#installation)\n",
    "- [Usage](#usage)\n",
    "  - [Initial Training](#initial-training)\n",
    "  - [Pruning](#pruning)\n",
    "  - [Quantization](#quantization)\n",
    "  - [Weight Sharing](#weight-sharing)\n",
    "  - [Evaluation](#evaluation)\n",
    "- [Contributing](#contributing)\n",
    "- [License](#license)\n",
    "- [Contact](#contact)\n",
    "\n",
    "## Prerequisites\n",
    "\n",
    "Before we begin, ensure we have met the following requirements:\n",
    "\n",
    "- Python 3.6 or higher\n",
    "- PyTorch\n",
    "- Scikit-learn\n",
    "- NumPy\n"
   ]
  },
  {
   "cell_type": "code",
   "execution_count": 7,
   "metadata": {
    "id": "xcop87u0aOSs"
   },
   "outputs": [],
   "source": [
    "## Installation\n",
    "import torch\n",
    "import torch.nn as nn\n",
    "import torch.optim as optim\n",
    "\n",
    "import numpy as np\n",
    "\n",
    "from sklearn.metrics import accuracy_score\n",
    "\n",
    "import keras\n",
    "from keras.models import Sequential\n",
    "from keras.layers import Dense\n",
    "from keras.utils import to_categorical\n",
    "from keras.optimizers import Adam\n",
    "from keras.callbacks import EarlyStopping\n",
    "\n",
    "import tensorflow as tf\n",
    "from tensorflow.keras.datasets import mnist\n",
    "from tensorflow.keras.models import Sequential\n",
    "from tensorflow.keras.layers import Conv2D, AveragePooling2D, Flatten, Dense\n",
    "from tensorflow.keras.optimizers import Adam\n",
    "from tensorflow.keras.utils import to_categorical"
   ]
  },
  {
   "cell_type": "code",
   "execution_count": 8,
   "metadata": {
    "colab": {
     "base_uri": "https://localhost:8080/"
    },
    "id": "uAzELGjKHgOi",
    "outputId": "b9a4b1c9-6b20-4bbb-e212-94f9f688c3df"
   },
   "outputs": [
    {
     "name": "stdout",
     "output_type": "stream",
     "text": [
      "Using device: CPU\n"
     ]
    }
   ],
   "source": [
    "# Check for available devices and set the appropriate one\n",
    "physical_devices = tf.config.list_physical_devices('GPU')\n",
    "if physical_devices:\n",
    "    device_name = 'GPU'\n",
    "    for device in physical_devices:\n",
    "        tf.config.experimental.set_memory_growth(device, True)\n",
    "else:\n",
    "    device_name = 'CPU'\n",
    "\n",
    "print(f\"Using device: {device_name}\")"
   ]
  },
  {
   "cell_type": "code",
   "execution_count": 9,
   "metadata": {
    "id": "1XvdXEDvaOSv"
   },
   "outputs": [],
   "source": [
    "# Set a random seed for reproducibility\n",
    "np.random.seed(42)"
   ]
  },
  {
   "cell_type": "code",
   "execution_count": 10,
   "metadata": {
    "colab": {
     "base_uri": "https://localhost:8080/"
    },
    "id": "bp-qjb8oaOSw",
    "outputId": "6ebd13f2-ab34-4e38-b547-8e341cd6aa02"
   },
   "outputs": [
    {
     "name": "stdout",
     "output_type": "stream",
     "text": [
      "Downloading data from https://storage.googleapis.com/tensorflow/tf-keras-datasets/mnist.npz\n",
      "11490434/11490434 [==============================] - 0s 0us/step\n"
     ]
    }
   ],
   "source": [
    "# Load and preprocess data\n",
    "(X_train, y_train), (X_test, y_test) = keras.datasets.mnist.load_data()\n",
    "\n",
    "assert X_train.shape == (60000, 28, 28)\n",
    "assert X_test.shape == (10000, 28, 28)\n",
    "assert y_train.shape == (60000,)\n",
    "assert y_test.shape == (10000,)"
   ]
  },
  {
   "cell_type": "code",
   "execution_count": 11,
   "metadata": {
    "colab": {
     "base_uri": "https://localhost:8080/",
     "height": 447
    },
    "id": "-_t69_-553R1",
    "outputId": "b9d8fdbb-da30-4bee-e60f-b9739385482a"
   },
   "outputs": [
    {
     "data": {
      "image/png": "[encoded data removed]",
      "text/plain": [
       "<Figure size 1000x500 with 10 Axes>"
      ]
     },
     "metadata": {},
     "output_type": "display_data"
    }
   ],
   "source": [
    "import matplotlib.pyplot as plt\n",
    "# Display some of the figures\n",
    "fig, axes = plt.subplots(2, 5, figsize=(10, 5))\n",
    "axes = axes.ravel()\n",
    "\n",
    "for i in np.arange(0, 10):\n",
    "    axes[i].imshow(X_train[i].reshape(28, 28))\n",
    "    axes[i].set_title(f'Label: {np.argmax(y_train[i])}')\n",
    "    axes[i].axis('on')\n",
    "\n",
    "plt.subplots_adjust(hspace=0.5)\n",
    "plt.show()\n"
   ]
  },
  {
   "cell_type": "code",
   "execution_count": 12,
   "metadata": {
    "colab": {
     "base_uri": "https://localhost:8080/"
    },
    "id": "Wd8X19JPaOSx",
    "outputId": "6166d1e5-d484-46b9-91ca-89b7807ec12c"
   },
   "outputs": [
    {
     "name": "stdout",
     "output_type": "stream",
     "text": [
      "Model: \"sequential\"\n",
      "_________________________________________________________________\n",
      " Layer (type)                Output Shape              Param #   \n",
      "=================================================================\n",
      " conv2d (Conv2D)             (None, 24, 24, 6)         156       \n",
      "                                                                 \n",
      " average_pooling2d (Average  (None, 12, 12, 6)         0         \n",
      " Pooling2D)                                                      \n",
      "                                                                 \n",
      " conv2d_1 (Conv2D)           (None, 8, 8, 16)          2416      \n",
      "                                                                 \n",
      " average_pooling2d_1 (Avera  (None, 4, 4, 16)          0         \n",
      " gePooling2D)                                                    \n",
      "                                                                 \n",
      " flatten (Flatten)           (None, 256)               0         \n",
      "                                                                 \n",
      " dense (Dense)               (None, 120)               30840     \n",
      "                                                                 \n",
      " dense_1 (Dense)             (None, 84)                10164     \n",
      "                                                                 \n",
      " dense_2 (Dense)             (None, 10)                850       \n",
      "                                                                 \n",
      "=================================================================\n",
      "Total params: 44426 (173.54 KB)\n",
      "Trainable params: 44426 (173.54 KB)\n",
      "Non-trainable params: 0 (0.00 Byte)\n",
      "_________________________________________________________________\n"
     ]
    }
   ],
   "source": [
    "# Create the LeNet model\n",
    "model = Sequential()\n",
    "\n",
    "# Layer 1: Convolutional + Average Pooling\n",
    "model.add(Conv2D(6, kernel_size=(5, 5), activation='relu', input_shape=(28, 28, 1)))\n",
    "model.add(AveragePooling2D())\n",
    "\n",
    "model.add(Conv2D(16, kernel_size=(5, 5), activation='relu'))# Layer 2: Convolutional + Average Pooling\n",
    "model.add(AveragePooling2D())\n",
    "\n",
    "model.add(Flatten())# Flatten the data for the fully connected layers\n",
    "model.add(Dense(120, activation='relu'))# Layer 3: Fully Connected\n",
    "model.add(Dense(84, activation='relu'))# Layer 4: Fully Connected\n",
    "model.add(Dense(10, activation='softmax'))# Output Layer: Fully Connected with softmax activation\n",
    "model.summary()"
   ]
  },
  {
   "cell_type": "code",
   "execution_count": 13,
   "metadata": {
    "colab": {
     "base_uri": "https://localhost:8080/"
    },
    "id": "cifqdzGDaOSy",
    "outputId": "f5bfd7fa-2ab0-4dd1-a495-d1f291128d73"
   },
   "outputs": [
    {
     "name": "stderr",
     "output_type": "stream",
     "text": [
      "WARNING:absl:`lr` is deprecated in Keras optimizer, please use `learning_rate` or use the legacy optimizer, e.g.,tf.keras.optimizers.legacy.Adam.\n"
     ]
    },
    {
     "name": "stdout",
     "output_type": "stream",
     "text": [
      "Epoch 1/10\n",
      "1875/1875 [==============================] - 28s 14ms/step - loss: 0.1993 - accuracy: 0.9459\n",
      "Epoch 2/10\n",
      "1875/1875 [==============================] - 27s 14ms/step - loss: 0.0632 - accuracy: 0.9807\n",
      "Epoch 3/10\n",
      "1875/1875 [==============================] - 29s 16ms/step - loss: 0.0490 - accuracy: 0.9845\n",
      "Epoch 4/10\n",
      "1875/1875 [==============================] - 26s 14ms/step - loss: 0.0396 - accuracy: 0.9876\n",
      "Epoch 5/10\n",
      "1875/1875 [==============================] - 26s 14ms/step - loss: 0.0335 - accuracy: 0.9897\n",
      "Epoch 6/10\n",
      "1875/1875 [==============================] - 26s 14ms/step - loss: 0.0308 - accuracy: 0.9908\n",
      "Epoch 7/10\n",
      "1875/1875 [==============================] - 25s 14ms/step - loss: 0.0271 - accuracy: 0.9915\n",
      "Epoch 8/10\n",
      "1875/1875 [==============================] - 26s 14ms/step - loss: 0.0244 - accuracy: 0.9926\n",
      "Epoch 9/10\n",
      "1875/1875 [==============================] - 26s 14ms/step - loss: 0.0234 - accuracy: 0.9930\n",
      "Epoch 10/10\n",
      "1875/1875 [==============================] - 32s 17ms/step - loss: 0.0204 - accuracy: 0.9939\n"
     ]
    },
    {
     "data": {
      "text/plain": [
       "<keras.src.callbacks.History at 0x7e82582b7280>"
      ]
     },
     "execution_count": 13,
     "metadata": {},
     "output_type": "execute_result"
    }
   ],
   "source": [
    "# Compile the model\n",
    "model.compile(optimizer=Adam(lr=0.001), loss='categorical_crossentropy', metrics=['accuracy'])\n",
    "model.fit(X_train,to_categorical(y_train),epochs=10)"
   ]
  },
  {
   "cell_type": "code",
   "execution_count": 55,
   "metadata": {
    "colab": {
     "base_uri": "https://localhost:8080/",
     "height": 440
    },
    "id": "K6epG5en9GkF",
    "outputId": "bbf18443-62bc-4bd9-ed20-21c787e8fdb8"
   },
   "outputs": [
    {
     "name": "stdout",
     "output_type": "stream",
     "text": [
      "313/313 [==============================] - 2s 6ms/step\n"
     ]
    },
    {
     "data": {
      "image/png": "[encoded data removed]",
      "text/plain": [
       "<Figure size 1000x500 with 10 Axes>"
      ]
     },
     "metadata": {},
     "output_type": "display_data"
    }
   ],
   "source": [
    "predictions = model.predict(X_test)\n",
    "# Display some of the predictions\n",
    "fig, axes = plt.subplots(2, 5, figsize=(10, 5))\n",
    "axes = axes.ravel()\n",
    "\n",
    "for i in np.arange(0, 10):\n",
    "    axes[i].imshow(X_test[i].reshape(28, 28), cmap='gray')\n",
    "    axes[i].set_title(f'Pred: {np.argmax(predictions[i])}')\n",
    "    axes[i].axis('off')\n",
    "\n",
    "plt.subplots_adjust(hspace=0.5)\n",
    "plt.show()"
   ]
  },
  {
   "cell_type": "code",
   "execution_count": 36,
   "metadata": {
    "id": "pJ2eB24BaOS0"
   },
   "outputs": [],
   "source": [
    "# Prune the model\n",
    "def prune_low_magnitude(model, pruning_ratio, threshold, sparsity_target):\n",
    "    # Implement the pruning function here\n",
    "    pruned_model = model\n",
    "    return pruned_model\n",
    "\n",
    "pruned_model = prune_low_magnitude(model, 0.5, 0.5, 0.8)\n",
    "\n",
    "# Quantize the pruned model\n",
    "def quantize_model(model):\n",
    "    # Implement the quantization function here\n",
    "    quantized_model = model\n",
    "    return quantized_model\n",
    "\n",
    "quantized_model = quantize_model(pruned_model)\n",
    "\n",
    "# Evaluate both prune and quantize on the model\n",
    "def evaluate_pruned_quantized_model(pruning_ratio, quantization_precision):\n",
    "    # Prune the model based on the pruning ratio\n",
    "    pruned_model = prune_low_magnitude(model, pruning_ratio, 0.5, 0.8)\n",
    "\n",
    "    # Quantize the pruned model based on the quantization precision\n",
    "    quantized_model = quantize_model(pruned_model)\n",
    "\n",
    "    # Evaluate the performance of the pruned and quantized model\n",
    "    loss, accuracy = quantized_model.evaluate(X_test, to_categorical(y_test))\n",
    "    return accuracy"
   ]
  },
  {
   "cell_type": "markdown",
   "metadata": {
    "id": "o6xDOU2naOS3"
   },
   "source": [
    "# DFO"
   ]
  },
  {
   "cell_type": "code",
   "execution_count": 53,
   "metadata": {
    "id": "m68zw-giaOS4"
   },
   "outputs": [],
   "source": [
    "# Initialize parapeter for DFo\n",
    "num_flies = 10 # Population size\n",
    "maxIterations = 10  # Iterations allowed\n",
    "max_function_evaluations = 30\n",
    "pruning_ratio_bounds = [0.1, 0.9]  # Example bounds for pruning ratio\n",
    "quantization_precision_bounds = [4, 8]  # Example bounds for quantization precision\n",
    "delta = 0.1  # Disturbance threshold\n",
    "\n",
    "# Initialize flies' positions randomly within the search space\n",
    "flies = np.random.uniform([pruning_ratio_bounds[0], quantization_precision_bounds[0]],\n",
    "                          [pruning_ratio_bounds[1], quantization_precision_bounds[1]],\n",
    "                          (num_flies, 2))\n",
    "\n",
    "# Initialize best positions and accuracies for each fly\n",
    "fitness = np.zeros(num_flies)\n",
    "best_positions = flies.copy()\n",
    "best_accuracies = np.zeros(num_flies)\n",
    "global_best_position = flies[0]\n",
    "global_best_accuracy = 0\n"
   ]
  },
  {
   "cell_type": "code",
   "execution_count": 51,
   "metadata": {
    "colab": {
     "base_uri": "https://localhost:8080/"
    },
    "id": "m378qXIhaOS7",
    "outputId": "42c02ac5-e87d-4fdf-bb5c-e20160133e1d",
    "tags": []
   },
   "outputs": [
    {
     "name": "stdout",
     "output_type": "stream",
     "text": [
      "313/313 [==============================] - 2s 6ms/step - loss: 0.0736 - accuracy: 0.9887\n",
      "313/313 [==============================] - 3s 9ms/step - loss: 0.0736 - accuracy: 0.9887\n",
      "313/313 [==============================] - 2s 6ms/step - loss: 0.0736 - accuracy: 0.9887\n",
      "313/313 [==============================] - 2s 6ms/step - loss: 0.0736 - accuracy: 0.9887\n",
      "313/313 [==============================] - 2s 6ms/step - loss: 0.0736 - accuracy: 0.9887\n",
      "313/313 [==============================] - 2s 6ms/step - loss: 0.0736 - accuracy: 0.9887\n",
      "313/313 [==============================] - 3s 8ms/step - loss: 0.0736 - accuracy: 0.9887\n",
      "313/313 [==============================] - 2s 7ms/step - loss: 0.0736 - accuracy: 0.9887\n",
      "313/313 [==============================] - 2s 6ms/step - loss: 0.0736 - accuracy: 0.9887\n",
      "313/313 [==============================] - 2s 6ms/step - loss: 0.0736 - accuracy: 0.9887\n"
     ]
    }
   ],
   "source": [
    "# Evaluate initial positions\n",
    "function_evaluations = 0\n",
    "for i in range(num_flies):\n",
    "    accuracy = evaluate_pruned_quantized_model(flies[i][0], flies[i][1])\n",
    "    best_accuracies[i] = accuracy\n",
    "    if accuracy > global_best_accuracy:\n",
    "        global_best_accuracy = accuracy\n",
    "        global_best_position = flies[i]\n",
    "    function_evaluations += 1"
   ]
  },
  {
   "cell_type": "code",
   "execution_count": 52,
   "metadata": {
    "colab": {
     "base_uri": "https://localhost:8080/"
    },
    "collapsed": true,
    "id": "HSVN35gCaOS8",
    "jupyter": {
     "outputs_hidden": true
    },
    "outputId": "cb1aa8e0-9aab-4662-fe4a-3571dbb08dd7",
    "tags": []
   },
   "outputs": [
    {
     "name": "stdout",
     "output_type": "stream",
     "text": [
      "313/313 [==============================] - 3s 8ms/step - loss: 0.0736 - accuracy: 0.9887\n",
      "313/313 [==============================] - 3s 8ms/step - loss: 0.0736 - accuracy: 0.9887\n",
      "313/313 [==============================] - 2s 6ms/step - loss: 0.0736 - accuracy: 0.9887\n",
      "313/313 [==============================] - 2s 6ms/step - loss: 0.0736 - accuracy: 0.9887\n",
      "313/313 [==============================] - 2s 6ms/step - loss: 0.0736 - accuracy: 0.9887\n",
      "313/313 [==============================] - 3s 10ms/step - loss: 0.0736 - accuracy: 0.9887\n",
      "313/313 [==============================] - 2s 6ms/step - loss: 0.0736 - accuracy: 0.9887\n",
      "313/313 [==============================] - 2s 6ms/step - loss: 0.0736 - accuracy: 0.9887\n",
      "313/313 [==============================] - 2s 6ms/step - loss: 0.0736 - accuracy: 0.9887\n",
      "313/313 [==============================] - 2s 6ms/step - loss: 0.0736 - accuracy: 0.9887\n",
      "313/313 [==============================] - 3s 9ms/step - loss: 0.0736 - accuracy: 0.9887\n",
      "313/313 [==============================] - 2s 6ms/step - loss: 0.0736 - accuracy: 0.9887\n",
      "313/313 [==============================] - 2s 6ms/step - loss: 0.0736 - accuracy: 0.9887\n",
      "313/313 [==============================] - 2s 5ms/step - loss: 0.0736 - accuracy: 0.9887\n",
      "313/313 [==============================] - 2s 5ms/step - loss: 0.0736 - accuracy: 0.9887\n",
      "313/313 [==============================] - 2s 8ms/step - loss: 0.0736 - accuracy: 0.9887\n",
      "313/313 [==============================] - 3s 8ms/step - loss: 0.0736 - accuracy: 0.9887\n",
      "313/313 [==============================] - 2s 6ms/step - loss: 0.0736 - accuracy: 0.9887\n",
      "313/313 [==============================] - 2s 6ms/step - loss: 0.0736 - accuracy: 0.9887\n",
      "313/313 [==============================] - 2s 6ms/step - loss: 0.0736 - accuracy: 0.9887\n",
      "313/313 [==============================] - 2s 6ms/step - loss: 0.0736 - accuracy: 0.9887\n",
      "313/313 [==============================] - 3s 9ms/step - loss: 0.0736 - accuracy: 0.9887\n",
      "313/313 [==============================] - 2s 6ms/step - loss: 0.0736 - accuracy: 0.9887\n",
      "313/313 [==============================] - 2s 5ms/step - loss: 0.0736 - accuracy: 0.9887\n",
      "313/313 [==============================] - 2s 6ms/step - loss: 0.0736 - accuracy: 0.9887\n",
      "313/313 [==============================] - 3s 9ms/step - loss: 0.0736 - accuracy: 0.9887\n",
      "313/313 [==============================] - 2s 6ms/step - loss: 0.0736 - accuracy: 0.9887\n",
      "313/313 [==============================] - 2s 6ms/step - loss: 0.0736 - accuracy: 0.9887\n",
      "313/313 [==============================] - 2s 6ms/step - loss: 0.0736 - accuracy: 0.9887\n",
      "313/313 [==============================] - 3s 9ms/step - loss: 0.0736 - accuracy: 0.9887\n",
      "313/313 [==============================] - 2s 6ms/step - loss: 0.0736 - accuracy: 0.9887\n",
      "313/313 [==============================] - 2s 6ms/step - loss: 0.0736 - accuracy: 0.9887\n",
      "313/313 [==============================] - 2s 6ms/step - loss: 0.0736 - accuracy: 0.9887\n",
      "313/313 [==============================] - 3s 9ms/step - loss: 0.0736 - accuracy: 0.9887\n",
      "313/313 [==============================] - 2s 5ms/step - loss: 0.0736 - accuracy: 0.9887\n",
      "313/313 [==============================] - 2s 5ms/step - loss: 0.0736 - accuracy: 0.9887\n",
      "313/313 [==============================] - 2s 6ms/step - loss: 0.0736 - accuracy: 0.9887\n",
      "313/313 [==============================] - 3s 9ms/step - loss: 0.0736 - accuracy: 0.9887\n",
      "313/313 [==============================] - 2s 6ms/step - loss: 0.0736 - accuracy: 0.9887\n",
      "313/313 [==============================] - 2s 7ms/step - loss: 0.0736 - accuracy: 0.9887\n",
      "313/313 [==============================] - 2s 6ms/step - loss: 0.0736 - accuracy: 0.9887\n",
      "313/313 [==============================] - 2s 6ms/step - loss: 0.0736 - accuracy: 0.9887\n",
      "313/313 [==============================] - 3s 9ms/step - loss: 0.0736 - accuracy: 0.9887\n",
      "313/313 [==============================] - 2s 6ms/step - loss: 0.0736 - accuracy: 0.9887\n",
      "313/313 [==============================] - 2s 6ms/step - loss: 0.0736 - accuracy: 0.9887\n",
      "313/313 [==============================] - 2s 6ms/step - loss: 0.0736 - accuracy: 0.9887\n",
      "313/313 [==============================] - 2s 7ms/step - loss: 0.0736 - accuracy: 0.9887\n",
      "313/313 [==============================] - 3s 10ms/step - loss: 0.0736 - accuracy: 0.9887\n",
      "313/313 [==============================] - 2s 6ms/step - loss: 0.0736 - accuracy: 0.9887\n",
      "313/313 [==============================] - 2s 6ms/step - loss: 0.0736 - accuracy: 0.9887\n",
      "313/313 [==============================] - 2s 7ms/step - loss: 0.0736 - accuracy: 0.9887\n",
      "313/313 [==============================] - 3s 8ms/step - loss: 0.0736 - accuracy: 0.9887\n",
      "313/313 [==============================] - 2s 6ms/step - loss: 0.0736 - accuracy: 0.9887\n",
      "313/313 [==============================] - 2s 6ms/step - loss: 0.0736 - accuracy: 0.9887\n",
      "313/313 [==============================] - 2s 7ms/step - loss: 0.0736 - accuracy: 0.9887\n",
      "313/313 [==============================] - 2s 7ms/step - loss: 0.0736 - accuracy: 0.9887\n",
      "313/313 [==============================] - 3s 8ms/step - loss: 0.0736 - accuracy: 0.9887\n",
      "313/313 [==============================] - 2s 6ms/step - loss: 0.0736 - accuracy: 0.9887\n",
      "313/313 [==============================] - 2s 6ms/step - loss: 0.0736 - accuracy: 0.9887\n",
      "313/313 [==============================] - 2s 6ms/step - loss: 0.0736 - accuracy: 0.9887\n",
      "313/313 [==============================] - 2s 7ms/step - loss: 0.0736 - accuracy: 0.9887\n",
      "313/313 [==============================] - 3s 8ms/step - loss: 0.0736 - accuracy: 0.9887\n",
      "313/313 [==============================] - 2s 6ms/step - loss: 0.0736 - accuracy: 0.9887\n",
      "313/313 [==============================] - 2s 6ms/step - loss: 0.0736 - accuracy: 0.9887\n",
      "313/313 [==============================] - 2s 6ms/step - loss: 0.0736 - accuracy: 0.9887\n",
      "313/313 [==============================] - 2s 8ms/step - loss: 0.0736 - accuracy: 0.9887\n",
      "313/313 [==============================] - 3s 8ms/step - loss: 0.0736 - accuracy: 0.9887\n",
      "313/313 [==============================] - 2s 6ms/step - loss: 0.0736 - accuracy: 0.9887\n",
      "313/313 [==============================] - 2s 6ms/step - loss: 0.0736 - accuracy: 0.9887\n",
      "313/313 [==============================] - 2s 7ms/step - loss: 0.0736 - accuracy: 0.9887\n",
      "313/313 [==============================] - 3s 9ms/step - loss: 0.0736 - accuracy: 0.9887\n",
      "313/313 [==============================] - 2s 5ms/step - loss: 0.0736 - accuracy: 0.9887\n",
      "313/313 [==============================] - 2s 6ms/step - loss: 0.0736 - accuracy: 0.9887\n",
      "313/313 [==============================] - 2s 6ms/step - loss: 0.0736 - accuracy: 0.9887\n",
      "313/313 [==============================] - 2s 8ms/step - loss: 0.0736 - accuracy: 0.9887\n",
      "313/313 [==============================] - 3s 9ms/step - loss: 0.0736 - accuracy: 0.9887\n",
      "313/313 [==============================] - 2s 5ms/step - loss: 0.0736 - accuracy: 0.9887\n",
      "313/313 [==============================] - 2s 6ms/step - loss: 0.0736 - accuracy: 0.9887\n",
      "313/313 [==============================] - 2s 7ms/step - loss: 0.0736 - accuracy: 0.9887\n",
      "313/313 [==============================] - 3s 9ms/step - loss: 0.0736 - accuracy: 0.9887\n",
      "313/313 [==============================] - 2s 6ms/step - loss: 0.0736 - accuracy: 0.9887\n",
      "313/313 [==============================] - 2s 6ms/step - loss: 0.0736 - accuracy: 0.9887\n",
      "313/313 [==============================] - 2s 6ms/step - loss: 0.0736 - accuracy: 0.9887\n",
      "313/313 [==============================] - 3s 10ms/step - loss: 0.0736 - accuracy: 0.9887\n",
      "313/313 [==============================] - 3s 10ms/step - loss: 0.0736 - accuracy: 0.9887\n",
      "313/313 [==============================] - 2s 5ms/step - loss: 0.0736 - accuracy: 0.9887\n",
      "313/313 [==============================] - 2s 6ms/step - loss: 0.0736 - accuracy: 0.9887\n",
      "313/313 [==============================] - 2s 5ms/step - loss: 0.0736 - accuracy: 0.9887\n",
      "313/313 [==============================] - 3s 10ms/step - loss: 0.0736 - accuracy: 0.9887\n",
      "313/313 [==============================] - 2s 6ms/step - loss: 0.0736 - accuracy: 0.9887\n",
      "313/313 [==============================] - 2s 6ms/step - loss: 0.0736 - accuracy: 0.9887\n",
      "313/313 [==============================] - 2s 6ms/step - loss: 0.0736 - accuracy: 0.9887\n",
      "313/313 [==============================] - 2s 6ms/step - loss: 0.0736 - accuracy: 0.9887\n",
      "313/313 [==============================] - 3s 10ms/step - loss: 0.0736 - accuracy: 0.9887\n",
      "313/313 [==============================] - 2s 6ms/step - loss: 0.0736 - accuracy: 0.9887\n",
      "313/313 [==============================] - 2s 6ms/step - loss: 0.0736 - accuracy: 0.9887\n",
      "313/313 [==============================] - 2s 6ms/step - loss: 0.0736 - accuracy: 0.9887\n",
      "313/313 [==============================] - 2s 6ms/step - loss: 0.0736 - accuracy: 0.9887\n",
      "313/313 [==============================] - 2s 8ms/step - loss: 0.0736 - accuracy: 0.9887\n",
      "313/313 [==============================] - 3s 8ms/step - loss: 0.0736 - accuracy: 0.9887\n",
      "Best pruning ratio: 0.6204631627411608\n",
      "Best quantization precision: 29.04807164655444\n",
      "Best accuracy: 0.9886999726295471\n"
     ]
    }
   ],
   "source": [
    "\n",
    "\n",
    "# Store accuracies for plotting\n",
    "global_best_accuracies = []\n",
    "\n",
    "# Main optimization loop\n",
    "while function_evaluations < max_function_evaluations:\n",
    "  for iteration in range(maxIterations):\n",
    "    for i in range(num_flies):\n",
    "        # Dispersal: Randomly move some flies\n",
    "        if np.random.rand() < 0.1:  # Dispersal probability\n",
    "            flies[i] = np.random.uniform([pruning_ratio_bounds[0], quantization_precision_bounds[0]],\n",
    "                                         [pruning_ratio_bounds[1], quantization_precision_bounds[1]])\n",
    "        # Attraction: Move flies towards the best-known positions\n",
    "        else:\n",
    "            flies[i] += 0.1 * (global_best_position - flies[i])  # Attraction to global best\n",
    "\n",
    "        # Ensure flies stay within bounds\n",
    "        flies[i] = np.clip(flies[i], [pruning_ratio_bounds[0], quantization_precision_bounds[0]],\n",
    "                           [pruning_ratio_bounds[1], quantization_precision_bounds[1]])\n",
    "\n",
    "        # Evaluate new position\n",
    "        accuracy = evaluate_pruned_quantized_model(flies[i][0], flies[i][1])\n",
    "        function_evaluations += 1\n",
    "        if accuracy > best_accuracies[i]:\n",
    "            best_accuracies[i] = accuracy\n",
    "            best_positions[i] = flies[i]\n",
    "        if accuracy > global_best_accuracy:\n",
    "            global_best_accuracy = accuracy\n",
    "            global_best_position = flies[i]\n",
    "\n",
    "    global_best_accuracies.append(global_best_accuracy)\n",
    "\n",
    "print(f\"Best pruning ratio: {global_best_position[0]}\")\n",
    "print(f\"Best quantization precision: {global_best_position[1]}\")\n",
    "print(f\"Best accuracy: {global_best_accuracy}\")"
   ]
  },
  {
   "cell_type": "code",
   "execution_count": 54,
   "metadata": {
    "colab": {
     "base_uri": "https://localhost:8080/",
     "height": 1000
    },
    "collapsed": true,
    "id": "7P-TUhqdxlI3",
    "jupyter": {
     "outputs_hidden": true
    },
    "outputId": "14292d1f-3f19-4b05-df7b-a1cf29b87713"
   },
   "outputs": [
    {
     "name": "stdout",
     "output_type": "stream",
     "text": [
      "313/313 [==============================] - 2s 8ms/step - loss: 0.0736 - accuracy: 0.9887\n",
      "313/313 [==============================] - 2s 7ms/step - loss: 0.0736 - accuracy: 0.9887\n",
      "313/313 [==============================] - 2s 6ms/step - loss: 0.0736 - accuracy: 0.9887\n",
      "313/313 [==============================] - 2s 6ms/step - loss: 0.0736 - accuracy: 0.9887\n",
      "313/313 [==============================] - 2s 6ms/step - loss: 0.0736 - accuracy: 0.9887\n",
      "313/313 [==============================] - 2s 6ms/step - loss: 0.0736 - accuracy: 0.9887\n",
      "313/313 [==============================] - 3s 10ms/step - loss: 0.0736 - accuracy: 0.9887\n",
      "313/313 [==============================] - 2s 6ms/step - loss: 0.0736 - accuracy: 0.9887\n",
      "313/313 [==============================] - 2s 5ms/step - loss: 0.0736 - accuracy: 0.9887\n",
      "313/313 [==============================] - 2s 6ms/step - loss: 0.0736 - accuracy: 0.9887\n",
      "313/313 [==============================] - 2s 6ms/step - loss: 0.0736 - accuracy: 0.9887\n",
      "313/313 [==============================] - 3s 8ms/step - loss: 0.0736 - accuracy: 0.9887\n",
      "313/313 [==============================] - 2s 8ms/step - loss: 0.0736 - accuracy: 0.9887\n",
      "313/313 [==============================] - 2s 5ms/step - loss: 0.0736 - accuracy: 0.9887\n",
      "313/313 [==============================] - 2s 6ms/step - loss: 0.0736 - accuracy: 0.9887\n",
      "313/313 [==============================] - 2s 6ms/step - loss: 0.0736 - accuracy: 0.9887\n",
      "313/313 [==============================] - 2s 6ms/step - loss: 0.0736 - accuracy: 0.9887\n",
      "313/313 [==============================] - 3s 9ms/step - loss: 0.0736 - accuracy: 0.9887\n",
      "313/313 [==============================] - 2s 6ms/step - loss: 0.0736 - accuracy: 0.9887\n",
      "313/313 [==============================] - 2s 5ms/step - loss: 0.0736 - accuracy: 0.9887\n",
      "Iteration: 0\tBest fly index: 0\tFitness value: 0.9886999726295471\n",
      "313/313 [==============================] - 2s 6ms/step - loss: 0.0736 - accuracy: 0.9887\n",
      "313/313 [==============================] - 2s 5ms/step - loss: 0.0736 - accuracy: 0.9887\n",
      "313/313 [==============================] - 3s 9ms/step - loss: 0.0736 - accuracy: 0.9887\n",
      "313/313 [==============================] - 2s 5ms/step - loss: 0.0736 - accuracy: 0.9887\n",
      "313/313 [==============================] - 2s 6ms/step - loss: 0.0736 - accuracy: 0.9887\n",
      "313/313 [==============================] - 2s 6ms/step - loss: 0.0736 - accuracy: 0.9887\n",
      "313/313 [==============================] - 2s 8ms/step - loss: 0.0736 - accuracy: 0.9887\n",
      "313/313 [==============================] - 3s 8ms/step - loss: 0.0736 - accuracy: 0.9887\n",
      "313/313 [==============================] - 2s 6ms/step - loss: 0.0736 - accuracy: 0.9887\n",
      "313/313 [==============================] - 2s 6ms/step - loss: 0.0736 - accuracy: 0.9887\n",
      "313/313 [==============================] - 2s 6ms/step - loss: 0.0736 - accuracy: 0.9887\n",
      "313/313 [==============================] - 3s 10ms/step - loss: 0.0736 - accuracy: 0.9887\n",
      "313/313 [==============================] - 2s 6ms/step - loss: 0.0736 - accuracy: 0.9887\n",
      "313/313 [==============================] - 2s 5ms/step - loss: 0.0736 - accuracy: 0.9887\n",
      "313/313 [==============================] - 2s 6ms/step - loss: 0.0736 - accuracy: 0.9887\n",
      "313/313 [==============================] - 2s 6ms/step - loss: 0.0736 - accuracy: 0.9887\n",
      "313/313 [==============================] - 3s 10ms/step - loss: 0.0736 - accuracy: 0.9887\n",
      "313/313 [==============================] - 2s 6ms/step - loss: 0.0736 - accuracy: 0.9887\n",
      "313/313 [==============================] - 2s 6ms/step - loss: 0.0736 - accuracy: 0.9887\n",
      "313/313 [==============================] - 2s 6ms/step - loss: 0.0736 - accuracy: 0.9887\n",
      "313/313 [==============================] - 2s 7ms/step - loss: 0.0736 - accuracy: 0.9887\n",
      "313/313 [==============================] - 3s 9ms/step - loss: 0.0736 - accuracy: 0.9887\n",
      "313/313 [==============================] - 2s 6ms/step - loss: 0.0736 - accuracy: 0.9887\n",
      "313/313 [==============================] - 2s 6ms/step - loss: 0.0736 - accuracy: 0.9887\n",
      "313/313 [==============================] - 2s 6ms/step - loss: 0.0736 - accuracy: 0.9887\n",
      "313/313 [==============================] - 3s 9ms/step - loss: 0.0736 - accuracy: 0.9887\n",
      "313/313 [==============================] - 2s 6ms/step - loss: 0.0736 - accuracy: 0.9887\n",
      "313/313 [==============================] - 2s 6ms/step - loss: 0.0736 - accuracy: 0.9887\n",
      "313/313 [==============================] - 2s 5ms/step - loss: 0.0736 - accuracy: 0.9887\n",
      "313/313 [==============================] - 2s 6ms/step - loss: 0.0736 - accuracy: 0.9887\n",
      "313/313 [==============================] - 3s 9ms/step - loss: 0.0736 - accuracy: 0.9887\n",
      "313/313 [==============================] - 2s 5ms/step - loss: 0.0736 - accuracy: 0.9887\n",
      "313/313 [==============================] - 2s 6ms/step - loss: 0.0736 - accuracy: 0.9887\n",
      "313/313 [==============================] - 2s 6ms/step - loss: 0.0736 - accuracy: 0.9887\n",
      "313/313 [==============================] - 2s 6ms/step - loss: 0.0736 - accuracy: 0.9887\n",
      "313/313 [==============================] - 3s 8ms/step - loss: 0.0736 - accuracy: 0.9887\n",
      "313/313 [==============================] - 2s 6ms/step - loss: 0.0736 - accuracy: 0.9887\n",
      "313/313 [==============================] - 2s 6ms/step - loss: 0.0736 - accuracy: 0.9887\n",
      "313/313 [==============================] - 2s 7ms/step - loss: 0.0736 - accuracy: 0.9887\n",
      "313/313 [==============================] - 3s 9ms/step - loss: 0.0736 - accuracy: 0.9887\n",
      "313/313 [==============================] - 2s 6ms/step - loss: 0.0736 - accuracy: 0.9887\n",
      "313/313 [==============================] - 2s 6ms/step - loss: 0.0736 - accuracy: 0.9887\n",
      "313/313 [==============================] - 2s 6ms/step - loss: 0.0736 - accuracy: 0.9887\n",
      "313/313 [==============================] - 3s 10ms/step - loss: 0.0736 - accuracy: 0.9887\n",
      "313/313 [==============================] - 2s 6ms/step - loss: 0.0736 - accuracy: 0.9887\n",
      "313/313 [==============================] - 2s 6ms/step - loss: 0.0736 - accuracy: 0.9887\n",
      "313/313 [==============================] - 2s 6ms/step - loss: 0.0736 - accuracy: 0.9887\n",
      "313/313 [==============================] - 2s 8ms/step - loss: 0.0736 - accuracy: 0.9887\n",
      "313/313 [==============================] - 3s 9ms/step - loss: 0.0736 - accuracy: 0.9887\n",
      "313/313 [==============================] - 2s 6ms/step - loss: 0.0736 - accuracy: 0.9887\n",
      "313/313 [==============================] - 2s 6ms/step - loss: 0.0736 - accuracy: 0.9887\n",
      "313/313 [==============================] - 2s 6ms/step - loss: 0.0736 - accuracy: 0.9887\n",
      "313/313 [==============================] - 3s 10ms/step - loss: 0.0736 - accuracy: 0.9887\n",
      "313/313 [==============================] - 2s 6ms/step - loss: 0.0736 - accuracy: 0.9887\n",
      "313/313 [==============================] - 2s 6ms/step - loss: 0.0736 - accuracy: 0.9887\n",
      "313/313 [==============================] - 2s 5ms/step - loss: 0.0736 - accuracy: 0.9887\n",
      "313/313 [==============================] - 2s 6ms/step - loss: 0.0736 - accuracy: 0.9887\n",
      "313/313 [==============================] - 3s 9ms/step - loss: 0.0736 - accuracy: 0.9887\n",
      "313/313 [==============================] - 2s 6ms/step - loss: 0.0736 - accuracy: 0.9887\n",
      "313/313 [==============================] - 2s 6ms/step - loss: 0.0736 - accuracy: 0.9887\n",
      "313/313 [==============================] - 2s 6ms/step - loss: 0.0736 - accuracy: 0.9887\n",
      "313/313 [==============================] - 2s 6ms/step - loss: 0.0736 - accuracy: 0.9887\n",
      "313/313 [==============================] - 3s 8ms/step - loss: 0.0736 - accuracy: 0.9887\n",
      "313/313 [==============================] - 2s 6ms/step - loss: 0.0736 - accuracy: 0.9887\n",
      "313/313 [==============================] - 2s 7ms/step - loss: 0.0736 - accuracy: 0.9887\n",
      "313/313 [==============================] - 3s 10ms/step - loss: 0.0736 - accuracy: 0.9887\n",
      "313/313 [==============================] - 3s 8ms/step - loss: 0.0736 - accuracy: 0.9887\n",
      "313/313 [==============================] - 2s 7ms/step - loss: 0.0736 - accuracy: 0.9887\n",
      "313/313 [==============================] - 2s 6ms/step - loss: 0.0736 - accuracy: 0.9887\n",
      "313/313 [==============================] - 2s 6ms/step - loss: 0.0736 - accuracy: 0.9887\n",
      "313/313 [==============================] - 2s 6ms/step - loss: 0.0736 - accuracy: 0.9887\n",
      "313/313 [==============================] - 3s 9ms/step - loss: 0.0736 - accuracy: 0.9887\n",
      "313/313 [==============================] - 2s 6ms/step - loss: 0.0736 - accuracy: 0.9887\n",
      "313/313 [==============================] - 2s 6ms/step - loss: 0.0736 - accuracy: 0.9887\n",
      "313/313 [==============================] - 2s 6ms/step - loss: 0.0736 - accuracy: 0.9887\n",
      "313/313 [==============================] - 4s 12ms/step - loss: 0.0736 - accuracy: 0.9887\n",
      "313/313 [==============================] - 2s 7ms/step - loss: 0.0736 - accuracy: 0.9887\n",
      "313/313 [==============================] - 2s 6ms/step - loss: 0.0736 - accuracy: 0.9887\n",
      "313/313 [==============================] - 2s 6ms/step - loss: 0.0736 - accuracy: 0.9887\n",
      "313/313 [==============================] - 2s 6ms/step - loss: 0.0736 - accuracy: 0.9887\n",
      "313/313 [==============================] - 3s 10ms/step - loss: 0.0736 - accuracy: 0.9887\n",
      "313/313 [==============================] - 2s 6ms/step - loss: 0.0736 - accuracy: 0.9887\n",
      "313/313 [==============================] - 2s 7ms/step - loss: 0.0736 - accuracy: 0.9887\n",
      "313/313 [==============================] - 2s 6ms/step - loss: 0.0736 - accuracy: 0.9887\n",
      "313/313 [==============================] - 4s 12ms/step - loss: 0.0736 - accuracy: 0.9887\n",
      "313/313 [==============================] - 4s 11ms/step - loss: 0.0736 - accuracy: 0.9887\n",
      "313/313 [==============================] - 2s 6ms/step - loss: 0.0736 - accuracy: 0.9887\n",
      "313/313 [==============================] - 2s 6ms/step - loss: 0.0736 - accuracy: 0.9887\n",
      "313/313 [==============================] - 3s 9ms/step - loss: 0.0736 - accuracy: 0.9887\n",
      "313/313 [==============================] - 2s 8ms/step - loss: 0.0736 - accuracy: 0.9887\n",
      "313/313 [==============================] - 2s 6ms/step - loss: 0.0736 - accuracy: 0.9887\n",
      "313/313 [==============================] - 2s 6ms/step - loss: 0.0736 - accuracy: 0.9887\n",
      "313/313 [==============================] - 2s 6ms/step - loss: 0.0736 - accuracy: 0.9887\n",
      "313/313 [==============================] - 2s 7ms/step - loss: 0.0736 - accuracy: 0.9887\n",
      "313/313 [==============================] - 3s 10ms/step - loss: 0.0736 - accuracy: 0.9887\n",
      "313/313 [==============================] - 2s 5ms/step - loss: 0.0736 - accuracy: 0.9887\n",
      "313/313 [==============================] - 2s 6ms/step - loss: 0.0736 - accuracy: 0.9887\n",
      "313/313 [==============================] - 2s 6ms/step - loss: 0.0736 - accuracy: 0.9887\n",
      "313/313 [==============================] - 2s 6ms/step - loss: 0.0736 - accuracy: 0.9887\n",
      "313/313 [==============================] - 2s 7ms/step - loss: 0.0736 - accuracy: 0.9887\n",
      "\n",
      "Final best fitness:\t 0.9886999726295471\n",
      "\n",
      "Best fly position:\n",
      " [0.74920953 6.05954272]\n"
     ]
    },
    {
     "data": {
      "image/png": "[encoded data removed]",
      "text/plain": [
       "<Figure size 640x480 with 1 Axes>"
      ]
     },
     "metadata": {},
     "output_type": "display_data"
    }
   ],
   "source": [
    "# FITNESS FUNCTION (SPHERE FUNCTION)\n",
    "def fitness_score(x): # x IS A VECTOR REPRESENTING ONE FLY\n",
    "\tsum = 0.0\n",
    "\tfor i in range(len(x)):\n",
    "\t\tsum = sum + np.power(x[i],2)\n",
    "\treturn sum\n",
    "# Track global best accuracies for plotting\n",
    "global_best_accuracies = []\n",
    "\n",
    "\n",
    "\n",
    "# Main optimization loop\n",
    "for itr in range(maxIterations):\n",
    "    for i in range(num_flies):\n",
    "        fitness[i] = evaluate_pruned_quantized_model(flies[i][0], flies[i][1])\n",
    "    s = np.argmax(fitness)  # Find best fly\n",
    "\n",
    "    if itr % 100 == 0:  # Print best fly every 100 iterations\n",
    "        print(f\"Iteration: {itr}\\tBest fly index: {s}\\tFitness value: {fitness[s]}\")\n",
    "\n",
    "    # Track the best accuracy for plotting\n",
    "    global_best_accuracies.append(fitness[s])\n",
    "\n",
    "    # Take each fly individually\n",
    "    for i in range(num_flies):\n",
    "        if i == s: continue  # Elitist strategy\n",
    "\n",
    "        # Find best neighbor\n",
    "        left = (i - 1) % num_flies\n",
    "        right = (i + 1) % num_flies\n",
    "        bNeighbour = right if fitness[right] > fitness[left] else left\n",
    "\n",
    "        for d in range(2):  # Update each dimension separately\n",
    "            if np.random.rand() < delta:\n",
    "                flies[i, d] = np.random.uniform(pruning_ratio_bounds[d], quantization_precision_bounds[d])\n",
    "                continue\n",
    "\n",
    "            u = np.random.rand()\n",
    "            flies[i, d] = flies[bNeighbour, d] + u * (flies[s, d] - flies[i, d])\n",
    "\n",
    "            # Out of bound control\n",
    "            if flies[i, d] < pruning_ratio_bounds[d] or flies[i, d] > quantization_precision_bounds[d]:\n",
    "                flies[i, d] = np.random.uniform(pruning_ratio_bounds[d], quantization_precision_bounds[d])\n",
    "\n",
    "for i in range(num_flies):\n",
    "    fitness[i] = evaluate_pruned_quantized_model(flies[i][0], flies[i][1])  # Final evaluation\n",
    "s = np.argmax(fitness)  # Find best fly\n",
    "\n",
    "print(\"\\nFinal best fitness:\\t\", fitness[s])\n",
    "print(\"\\nBest fly position:\\n\", flies[s,])"
   ]
  }
 ],
 "metadata": {
  "colab": {
   "include_colab_link": true,
   "provenance": []
  },
  "kernelspec": {
   "display_name": "Python 3 (ipykernel)",
   "language": "python",
   "name": "python3"
  },
  "language_info": {
   "codemirror_mode": {
    "name": "ipython",
    "version": 3
   },
   "file_extension": ".py",
   "mimetype": "text/x-python",
   "name": "python",
   "nbconvert_exporter": "python",
   "pygments_lexer": "ipython3",
   "version": "3.10.9"
  }
 },
 "nbformat": 4,
 "nbformat_minor": 4
}
